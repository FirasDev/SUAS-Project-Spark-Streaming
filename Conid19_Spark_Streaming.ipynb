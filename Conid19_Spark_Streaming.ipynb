{
 "cells": [
  {
   "cell_type": "markdown",
   "metadata": {},
   "source": [
    "# Main 1 : Covid 19"
   ]
  },
  {
   "cell_type": "code",
   "execution_count": 2,
   "metadata": {},
   "outputs": [],
   "source": [
    "from pyspark.sql import SparkSession\n",
    "import pyspark.sql.functions as F\n",
    "import pyspark.sql.types as T\n",
    "spark = SparkSession.builder.getOrCreate()"
   ]
  },
  {
   "cell_type": "code",
   "execution_count": 3,
   "metadata": {},
   "outputs": [],
   "source": [
    "df = spark.read.csv(\"covid19.csv\", header=True, inferSchema=True)\n",
    "import pandas as pd\n",
    "import numpy as np\n",
    "\n",
    "dff = df.toPandas()\n",
    "#The dataSet is too big .. We will only work with 500 rows !! just to test the streaming \n",
    "#print(dff.head(500).to_csv(\"covid19_10.csv\",index=False))\n",
    "df1 = spark.read.csv(\"covid19_10.csv\", header=True, inferSchema=True)\n"
   ]
  },
  {
   "cell_type": "code",
   "execution_count": 4,
   "metadata": {},
   "outputs": [
    {
     "data": {
      "text/plain": [
       "['SNo',\n",
       " 'ObservationDate',\n",
       " 'Province',\n",
       " 'Country',\n",
       " 'Last_Update',\n",
       " 'Confirmed',\n",
       " 'Deaths',\n",
       " 'Recovered',\n",
       " 'Active_case']"
      ]
     },
     "execution_count": 4,
     "metadata": {},
     "output_type": "execute_result"
    }
   ],
   "source": [
    "df.columns"
   ]
  },
  {
   "cell_type": "code",
   "execution_count": 5,
   "metadata": {},
   "outputs": [
    {
     "name": "stdout",
     "output_type": "stream",
     "text": [
      "+---+---------------+--------+-------+---------------+---------+------+---------+-----------+\n",
      "|SNo|ObservationDate|Province|Country|    Last_Update|Confirmed|Deaths|Recovered|Active_case|\n",
      "+---+---------------+--------+-------+---------------+---------+------+---------+-----------+\n",
      "|  1|     01/22/2020|   Anhui|  China|1/22/2020 17:00|        1|     0|        0|          1|\n",
      "|  2|     01/22/2020| Beijing|  China|1/22/2020 17:00|       14|     0|        0|         14|\n",
      "+---+---------------+--------+-------+---------------+---------+------+---------+-----------+\n",
      "only showing top 2 rows\n",
      "\n"
     ]
    }
   ],
   "source": [
    "df.show(2)"
   ]
  },
  {
   "cell_type": "markdown",
   "metadata": {},
   "source": [
    "Step maps a unit of time in the real world. In this case 1 step is 1 hour of time. So we can assume for this example that we have another job that runs every hour and gets all the transactions in that time frame."
   ]
  },
  {
   "cell_type": "code",
   "execution_count": 6,
   "metadata": {},
   "outputs": [
    {
     "name": "stdout",
     "output_type": "stream",
     "text": [
      "+-------------------+-----+\n",
      "|        Last_Update|count|\n",
      "+-------------------+-----+\n",
      "|2020-02-10T13:23:06|    1|\n",
      "|2020-02-10T19:03:02|    3|\n",
      "|2020-02-21T13:03:09|    1|\n",
      "+-------------------+-----+\n",
      "only showing top 3 rows\n",
      "\n"
     ]
    }
   ],
   "source": [
    "df.groupBy(\"Last_Update\").count().show(3)"
   ]
  },
  {
   "cell_type": "markdown",
   "metadata": {},
   "source": [
    "We can therefore save the output of that job by filtering on each step and saving it to a separate file. "
   ]
  },
  {
   "cell_type": "code",
   "execution_count": 7,
   "metadata": {},
   "outputs": [],
   "source": [
    "#%%time\n",
    " #Countries = df1.select(\"Active_case\").distinct().collect()\n",
    " #for Active_case in Countries[:]:\n",
    "  #  _df = df1.where(f\"Active_case = {Active_case[0]}\")\n",
    "   # #by adding coalesce(1) we save the dataframe to one file\n",
    "    #_df.coalesce(1).write.mode(\"append\").option(\"header\", \"true\").csv(\"data\")\n",
    "    "
   ]
  },
  {
   "cell_type": "code",
   "execution_count": 8,
   "metadata": {},
   "outputs": [
    {
     "name": "stdout",
     "output_type": "stream",
     "text": [
      " Le volume dans le lecteur C n'a pas de nom.\n",
      " Le num‚ro de s‚rie du volume est 9E1C-407B\n",
      "\n",
      " R‚pertoire de c:\\sparkProjectFolder\\SUAS-Project-Spark-Streaming\\data\n",
      "\n",
      "20/01/2021  19:29    <DIR>          .\n",
      "20/01/2021  19:29    <DIR>          ..\n",
      "20/01/2021  19:29                12 .part-00000-01d0e021-4bab-4001-8387-8815fddab4a9-c000.csv.crc\n",
      "20/01/2021  19:28                12 .part-00000-03de0800-a232-4982-917f-9209102edc11-c000.csv.crc\n",
      "20/01/2021  19:28                12 .part-00000-0582b78a-bb40-4b4d-822b-16953efd67cf-c000.csv.crc\n",
      "20/01/2021  19:29                12 .part-00000-06429bfa-aa4a-470e-b14b-0555a0142e15-c000.csv.crc\n",
      "20/01/2021  19:28                12 .part-00000-0675b652-d945-4809-a15f-21d1e1ccff4b-c000.csv.crc\n",
      "20/01/2021  19:28                12 .part-00000-071deb1a-841f-4144-8e62-aadffd38c98b-c000.csv.crc\n",
      "20/01/2021  19:29                12 .part-00000-0aa3c307-579c-41d1-bd2b-4ca5bf9defaf-c000.csv.crc\n",
      "20/01/2021  19:29                12 .part-00000-0d22b1a7-5419-46ea-8ff0-59ba7c474e2a-c000.csv.crc\n",
      "20/01/2021  19:28                12 .part-00000-0d240d72-c15f-4dd8-870b-04aad469cca8-c000.csv.crc\n",
      "20/01/2021  19:29                12 .part-00000-0fde9274-5d9e-417e-a9aa-455caba566e8-c000.csv.crc\n",
      "20/01/2021  19:28                12 .part-00000-12ba62a2-8b86-4f64-8fd0-90a2bf2d2642-c000.csv.crc\n",
      "20/01/2021  19:28                12 .part-00000-14a06f86-9954-40ab-a751-fbdc475b36d0-c000.csv.crc\n",
      "20/01/2021  19:28                12 .part-00000-16329841-6dfd-469f-9ece-a5d5d6425321-c000.csv.crc\n",
      "20/01/2021  19:28                12 .part-00000-1674f941-a64c-4a3c-b364-f6b37bc6cedf-c000.csv.crc\n",
      "20/01/2021  19:28                12 .part-00000-171a8d50-9b80-40c8-ba1c-749b86de46e4-c000.csv.crc\n",
      "20/01/2021  19:29                12 .part-00000-18e2faea-db41-4477-aa90-c7a0c05e1814-c000.csv.crc\n",
      "20/01/2021  19:29                32 .part-00000-1922a6fd-bb35-41f9-8943-0c9c8803b8f3-c000.csv.crc\n",
      "20/01/2021  19:29                12 .part-00000-1abe282c-2951-4def-9abd-77b1269d883c-c000.csv.crc\n",
      "20/01/2021  19:29                12 .part-00000-1e5a4485-4062-4792-9e82-69cab01d862a-c000.csv.crc\n",
      "20/01/2021  19:29                12 .part-00000-2064d3fd-8e05-4526-add8-e6981c2c92f4-c000.csv.crc\n",
      "20/01/2021  19:28                12 .part-00000-23501af2-0ce6-4767-bf47-1ab24a04d781-c000.csv.crc\n",
      "20/01/2021  19:29                12 .part-00000-23c319da-856f-4b98-af31-381735b5f7f2-c000.csv.crc\n",
      "20/01/2021  19:29                12 .part-00000-2675133e-8eb6-45a1-91f8-307b3f82bb16-c000.csv.crc\n",
      "20/01/2021  19:29                12 .part-00000-29b40639-a0cb-4c04-8ed0-b7f0733c7599-c000.csv.crc\n",
      "20/01/2021  19:29                12 .part-00000-2b91d5f5-4a30-4f7f-ac47-1855ee5101d0-c000.csv.crc\n",
      "20/01/2021  19:28                12 .part-00000-2c7cadda-4a73-4b0f-8861-3248d5734035-c000.csv.crc\n",
      "20/01/2021  19:28                12 .part-00000-2d2066ce-e062-47c7-9848-7efdd4758c76-c000.csv.crc\n",
      "20/01/2021  19:28                12 .part-00000-2dea4a9f-d1b0-4dfb-9324-2a134590f6bd-c000.csv.crc\n",
      "20/01/2021  19:29                12 .part-00000-2e6a74cb-d738-4ccc-9d8e-ef7ec52bb9be-c000.csv.crc\n",
      "20/01/2021  19:29                12 .part-00000-305adf2b-6e63-4b52-b940-51951f7f5013-c000.csv.crc\n",
      "20/01/2021  19:29                12 .part-00000-3491679c-71a1-4346-9dd8-3c5bdaec7516-c000.csv.crc\n",
      "20/01/2021  19:29                12 .part-00000-375d847e-c7af-4dd2-887e-3caeff17e6d0-c000.csv.crc\n",
      "20/01/2021  19:29                12 .part-00000-3778c0b8-c477-408a-b0b2-6d697b91b367-c000.csv.crc\n",
      "20/01/2021  19:29                12 .part-00000-3bdccc02-bd7a-485c-a637-ca9d99070045-c000.csv.crc\n",
      "20/01/2021  19:28                12 .part-00000-3d18e92e-d110-48a8-b2b2-17f3e1513252-c000.csv.crc\n",
      "20/01/2021  19:29                16 .part-00000-3d80bef8-0948-487f-8302-c7bbf8c74bf6-c000.csv.crc\n",
      "20/01/2021  19:29                12 .part-00000-3eb856a5-dd3c-412d-b914-44c76f7692ff-c000.csv.crc\n",
      "20/01/2021  19:28                24 .part-00000-413f9f4a-bf0e-414b-9c0f-882f97019ae2-c000.csv.crc\n",
      "20/01/2021  19:29                20 .part-00000-4596e746-f584-4315-9855-7d50dc0a2bc1-c000.csv.crc\n",
      "20/01/2021  19:29                12 .part-00000-492ddfe2-35e2-4097-a690-3839ac1e0001-c000.csv.crc\n",
      "20/01/2021  19:28                12 .part-00000-49aae536-85dd-4bb5-bd9d-54bbaf053167-c000.csv.crc\n",
      "20/01/2021  19:29                20 .part-00000-4c81f656-94d8-4f00-8f62-8ed9474d4f0a-c000.csv.crc\n",
      "20/01/2021  19:28                12 .part-00000-4ce40b1c-37fb-4062-bb44-95fa27dbd53d-c000.csv.crc\n",
      "20/01/2021  19:28                12 .part-00000-521b3b7f-d8f7-4221-be46-30259e7b768c-c000.csv.crc\n",
      "20/01/2021  19:28                12 .part-00000-52962263-b63e-4cf4-911c-d67c609fa7e5-c000.csv.crc\n",
      "20/01/2021  19:29                12 .part-00000-59c80086-fba8-4520-8164-3ba3e05c46b0-c000.csv.crc\n",
      "20/01/2021  19:29                16 .part-00000-5b10f12a-cc14-43a9-aa39-c55324aaf6fa-c000.csv.crc\n",
      "20/01/2021  19:29                16 .part-00000-5d39c37d-dea9-49d7-ae0d-99844a5c684d-c000.csv.crc\n",
      "20/01/2021  19:28                12 .part-00000-60c36661-79ae-49f1-bfeb-aab7a30f8836-c000.csv.crc\n",
      "20/01/2021  19:29                12 .part-00000-66762601-f006-414a-9757-f2c652588205-c000.csv.crc\n",
      "20/01/2021  19:28                12 .part-00000-6abff9fc-208a-4310-be99-2cdf163e21b3-c000.csv.crc\n",
      "20/01/2021  19:28                12 .part-00000-6cc53285-e471-4849-82c7-feb45869de83-c000.csv.crc\n",
      "20/01/2021  19:28                12 .part-00000-6d330b7e-ebcc-47be-bbe4-086ac8aec205-c000.csv.crc\n",
      "20/01/2021  19:29                12 .part-00000-6e8bf056-35d2-46c8-a61f-91713aaf6783-c000.csv.crc\n",
      "20/01/2021  19:28                12 .part-00000-71fdb52f-e563-49f9-8d12-7ee0cfd26198-c000.csv.crc\n",
      "20/01/2021  19:29                12 .part-00000-72485807-9dd8-443d-8f52-43dd41d5e453-c000.csv.crc\n",
      "20/01/2021  19:29                12 .part-00000-7aeeda99-6cc0-441b-8381-898cbc0be8dc-c000.csv.crc\n",
      "20/01/2021  19:29                12 .part-00000-7bc8fcbd-d3b8-4412-af7f-f57df15f4522-c000.csv.crc\n",
      "20/01/2021  19:28                12 .part-00000-7d08955b-d5b7-4c07-8717-01c9e9a96b3e-c000.csv.crc\n",
      "20/01/2021  19:28                12 .part-00000-7ef29e68-69ad-47c5-8a49-dc77f464fbe6-c000.csv.crc\n",
      "20/01/2021  19:29                12 .part-00000-868e6e5b-9dfb-43e5-9d12-3351a4e98dc7-c000.csv.crc\n",
      "20/01/2021  19:28                12 .part-00000-8aec3492-41c1-4940-997f-1933c7fae8bd-c000.csv.crc\n",
      "20/01/2021  19:29                12 .part-00000-8ee966ce-576d-4660-821a-a200ecea7ed7-c000.csv.crc\n",
      "20/01/2021  19:29                12 .part-00000-92efc8d5-0946-44cd-96f7-4844deb8b28b-c000.csv.crc\n",
      "20/01/2021  19:28                12 .part-00000-954c1556-4e59-40f0-be0c-13b59ad67d54-c000.csv.crc\n",
      "20/01/2021  19:28                12 .part-00000-95d05e2f-dce7-489f-9aa0-34b83fc723fc-c000.csv.crc\n",
      "20/01/2021  19:28                12 .part-00000-95dc865d-c1fb-4659-8bef-15f20df8224c-c000.csv.crc\n",
      "20/01/2021  19:28                12 .part-00000-96ac8b70-bd6b-4619-b9d7-fcbbb81b9f65-c000.csv.crc\n",
      "20/01/2021  19:28                20 .part-00000-98926916-164e-4e55-8175-7ddb429e2475-c000.csv.crc\n",
      "20/01/2021  19:29                12 .part-00000-9e728c31-8eec-4009-9352-b8b6e25eeedf-c000.csv.crc\n",
      "20/01/2021  19:28                12 .part-00000-9f1817f9-6cf9-454a-85bc-493e03994c39-c000.csv.crc\n",
      "20/01/2021  19:29                12 .part-00000-a1697636-15df-46de-955d-3dd19e3839eb-c000.csv.crc\n",
      "20/01/2021  19:29                12 .part-00000-a225f480-632f-4ee9-b354-71274b71eb24-c000.csv.crc\n",
      "20/01/2021  19:28                12 .part-00000-a354590e-54e6-4e53-bce8-294522d0c572-c000.csv.crc\n",
      "20/01/2021  19:28                12 .part-00000-a4ae9f09-e670-4d7a-853b-640231281892-c000.csv.crc\n",
      "20/01/2021  19:28                12 .part-00000-a66eea55-af58-465a-b8f4-8e859dadb83b-c000.csv.crc\n",
      "20/01/2021  19:28                12 .part-00000-a6ff29e5-2d32-4174-9e0b-c164d80a0223-c000.csv.crc\n",
      "20/01/2021  19:28                12 .part-00000-a70f3643-fbb7-4984-9dee-91adc6ce8927-c000.csv.crc\n",
      "20/01/2021  19:29                12 .part-00000-a87456ae-6f7d-4200-b64b-425c2372313b-c000.csv.crc\n",
      "20/01/2021  19:28                16 .part-00000-a8b392e3-c90c-4bfe-8fc6-40a8c499bb6d-c000.csv.crc\n",
      "20/01/2021  19:28                12 .part-00000-a94a7bf1-bd7b-40dc-a92e-96a7997517ca-c000.csv.crc\n",
      "20/01/2021  19:28                12 .part-00000-ac43fbf4-05ce-4dbc-8039-9edfd817ff0a-c000.csv.crc\n",
      "20/01/2021  19:28                12 .part-00000-ade61110-850e-4c02-aebf-30fa86515141-c000.csv.crc\n",
      "20/01/2021  19:29                12 .part-00000-af4a2be8-e42e-4bed-b672-8495503cdb5f-c000.csv.crc\n",
      "20/01/2021  19:29                12 .part-00000-af555c41-2a1a-49b3-8cd8-39437cfd21b3-c000.csv.crc\n",
      "20/01/2021  19:29                12 .part-00000-b2bd4399-588e-4a9f-808a-6091683a5758-c000.csv.crc\n",
      "20/01/2021  19:28                12 .part-00000-b3439403-1d12-490e-9348-5143bec9b1d3-c000.csv.crc\n",
      "20/01/2021  19:28                12 .part-00000-b7d91904-77f5-42a8-a317-c3a518e4411b-c000.csv.crc\n",
      "20/01/2021  19:28                12 .part-00000-b85dd513-b774-40fa-83b7-c6ef206ad736-c000.csv.crc\n",
      "20/01/2021  19:29                12 .part-00000-b9c180f1-0532-4dd2-83d0-f768d57742e4-c000.csv.crc\n",
      "20/01/2021  19:29                12 .part-00000-bc5c8dcb-1e15-4fbb-acc4-33f8d2469178-c000.csv.crc\n",
      "20/01/2021  19:29                12 .part-00000-be8c2ea1-d483-47bf-82ba-7263fda6cf60-c000.csv.crc\n",
      "20/01/2021  19:28                12 .part-00000-bf4e5237-edc5-4dc4-8140-00b170747989-c000.csv.crc\n",
      "20/01/2021  19:28                12 .part-00000-bffc44d4-c42c-40b1-a0a2-934602a7c414-c000.csv.crc\n",
      "20/01/2021  19:29                12 .part-00000-c173ee64-df22-41d6-80cb-6276b21ade3d-c000.csv.crc\n",
      "20/01/2021  19:28                12 .part-00000-c1afcde8-8834-4240-bddd-21acff53f16f-c000.csv.crc\n",
      "20/01/2021  19:29                12 .part-00000-c2f4646d-1552-4beb-96b1-67ff329b64ea-c000.csv.crc\n",
      "20/01/2021  19:29                12 .part-00000-c30de288-405b-42c2-9017-0fcd7cb96609-c000.csv.crc\n",
      "20/01/2021  19:29                12 .part-00000-c3da9c62-ddb2-4ed1-aa4b-3bc8ecac7966-c000.csv.crc\n",
      "20/01/2021  19:28                12 .part-00000-c9e79372-d9ce-436c-8825-bc2b30409e57-c000.csv.crc\n",
      "20/01/2021  19:29                12 .part-00000-cdb92dae-2ac4-4dbb-ae76-a2f2cec42977-c000.csv.crc\n",
      "20/01/2021  19:28                12 .part-00000-cf3929dc-2f0b-4238-a6bb-3fd37fc32485-c000.csv.crc\n",
      "20/01/2021  19:28                12 .part-00000-d8ab4297-0e4e-4cdb-b568-d2b0b1355543-c000.csv.crc\n",
      "20/01/2021  19:28                12 .part-00000-da3a87fd-ac38-4505-b0cb-012a2f6801ff-c000.csv.crc\n",
      "20/01/2021  19:29                12 .part-00000-db9e1263-5855-4f1f-90fb-60e93434cd27-c000.csv.crc\n",
      "20/01/2021  19:28                12 .part-00000-dbf76600-4476-430c-bb64-7403d1e666fb-c000.csv.crc\n",
      "20/01/2021  19:28                12 .part-00000-dc4c7ee9-80b0-45cd-9170-9094f820d61d-c000.csv.crc\n",
      "20/01/2021  19:29                12 .part-00000-de75bd25-0374-41fc-b2f8-45c5f6afa4d6-c000.csv.crc\n",
      "20/01/2021  19:28                12 .part-00000-e29579c2-d647-4eb1-b766-567ddb4aa373-c000.csv.crc\n",
      "20/01/2021  19:28                12 .part-00000-e3acd4de-6a09-4b2f-88ad-dd85c57fd452-c000.csv.crc\n",
      "20/01/2021  19:28                16 .part-00000-e5b714b8-9a09-4f4e-87cf-8d088a56564d-c000.csv.crc\n",
      "20/01/2021  19:28                12 .part-00000-e638e95b-44ad-4578-b57b-b09cad50daca-c000.csv.crc\n",
      "20/01/2021  19:29                12 .part-00000-e65f9ce4-43bb-45b2-adda-a7988713d9ca-c000.csv.crc\n",
      "20/01/2021  19:28                12 .part-00000-e66f8bfb-64c6-462a-a51b-3b9bd3146bcd-c000.csv.crc\n",
      "20/01/2021  19:29                12 .part-00000-e78cf6c8-fffc-4b24-9bd1-c25c635f9151-c000.csv.crc\n",
      "20/01/2021  19:28                12 .part-00000-e9fb3d1e-c300-456d-9bf4-5b7aa65040fe-c000.csv.crc\n",
      "20/01/2021  19:29                12 .part-00000-ea0d7689-9673-4340-b093-18cf560e06f0-c000.csv.crc\n",
      "20/01/2021  19:29                12 .part-00000-ec43890f-3164-4a9f-8245-1d1b8a47b6ee-c000.csv.crc\n",
      "20/01/2021  19:28                12 .part-00000-ec85a93e-7c97-4030-9438-fcb8a38f48cf-c000.csv.crc\n",
      "20/01/2021  19:28                12 .part-00000-ec899b43-2fd4-4a00-ba44-3d479714167e-c000.csv.crc\n",
      "20/01/2021  19:28                12 .part-00000-f70ebefa-063a-4587-8fa9-1a3755c5ac47-c000.csv.crc\n",
      "20/01/2021  19:29                12 .part-00000-f7a1ff39-7366-4767-9f8a-01763563e2a2-c000.csv.crc\n",
      "20/01/2021  19:29                12 .part-00000-fafe793e-11ca-41a9-ad71-d252f43e4582-c000.csv.crc\n",
      "20/01/2021  19:28                48 .part-00000-fb1bf771-a303-4023-866d-8ff5ae92cd99-c000.csv.crc\n",
      "20/01/2021  19:28                12 .part-00000-fb2b51a6-b5bd-4905-b2b2-d3711ef54860-c000.csv.crc\n",
      "20/01/2021  19:28                12 .part-00000-fc45a91a-384a-41a9-8517-6e627906461b-c000.csv.crc\n",
      "20/01/2021  19:29                12 .part-00000-fc70086e-8c89-4fba-b0cc-4b6e81911434-c000.csv.crc\n",
      "20/01/2021  19:29                12 .part-00000-fe00e0a6-6be0-44d5-9c14-c190b280ead7-c000.csv.crc\n",
      "20/01/2021  19:29                 8 ._SUCCESS.crc\n",
      "20/01/2021  19:29               203 part-00000-01d0e021-4bab-4001-8387-8815fddab4a9-c000.csv\n",
      "20/01/2021  19:28               146 part-00000-03de0800-a232-4982-917f-9209102edc11-c000.csv\n",
      "20/01/2021  19:28               261 part-00000-0582b78a-bb40-4b4d-822b-16953efd67cf-c000.csv\n",
      "20/01/2021  19:29               205 part-00000-06429bfa-aa4a-470e-b14b-0555a0142e15-c000.csv\n",
      "20/01/2021  19:28               254 part-00000-0675b652-d945-4809-a15f-21d1e1ccff4b-c000.csv\n",
      "20/01/2021  19:28               255 part-00000-071deb1a-841f-4144-8e62-aadffd38c98b-c000.csv\n",
      "20/01/2021  19:29               371 part-00000-0aa3c307-579c-41d1-bd2b-4ca5bf9defaf-c000.csv\n",
      "20/01/2021  19:29               146 part-00000-0d22b1a7-5419-46ea-8ff0-59ba7c474e2a-c000.csv\n",
      "20/01/2021  19:28               146 part-00000-0d240d72-c15f-4dd8-870b-04aad469cca8-c000.csv\n",
      "20/01/2021  19:29               200 part-00000-0fde9274-5d9e-417e-a9aa-455caba566e8-c000.csv\n",
      "20/01/2021  19:28               145 part-00000-12ba62a2-8b86-4f64-8fd0-90a2bf2d2642-c000.csv\n",
      "20/01/2021  19:28               150 part-00000-14a06f86-9954-40ab-a751-fbdc475b36d0-c000.csv\n",
      "20/01/2021  19:28               201 part-00000-16329841-6dfd-469f-9ece-a5d5d6425321-c000.csv\n",
      "20/01/2021  19:28               201 part-00000-1674f941-a64c-4a3c-b364-f6b37bc6cedf-c000.csv\n",
      "20/01/2021  19:28               150 part-00000-171a8d50-9b80-40c8-ba1c-749b86de46e4-c000.csv\n",
      "20/01/2021  19:29               203 part-00000-18e2faea-db41-4477-aa90-c7a0c05e1814-c000.csv\n",
      "20/01/2021  19:29             2ÿ775 part-00000-1922a6fd-bb35-41f9-8943-0c9c8803b8f3-c000.csv\n",
      "20/01/2021  19:29               152 part-00000-1abe282c-2951-4def-9abd-77b1269d883c-c000.csv\n",
      "20/01/2021  19:29               150 part-00000-1e5a4485-4062-4792-9e82-69cab01d862a-c000.csv\n",
      "20/01/2021  19:29               263 part-00000-2064d3fd-8e05-4526-add8-e6981c2c92f4-c000.csv\n",
      "20/01/2021  19:28               143 part-00000-23501af2-0ce6-4767-bf47-1ab24a04d781-c000.csv\n",
      "20/01/2021  19:29               144 part-00000-23c319da-856f-4b98-af31-381735b5f7f2-c000.csv\n",
      "20/01/2021  19:29               372 part-00000-2675133e-8eb6-45a1-91f8-307b3f82bb16-c000.csv\n",
      "20/01/2021  19:29               145 part-00000-29b40639-a0cb-4c04-8ed0-b7f0733c7599-c000.csv\n",
      "20/01/2021  19:29               146 part-00000-2b91d5f5-4a30-4f7f-ac47-1855ee5101d0-c000.csv\n",
      "20/01/2021  19:28               255 part-00000-2c7cadda-4a73-4b0f-8861-3248d5734035-c000.csv\n",
      "20/01/2021  19:28               202 part-00000-2d2066ce-e062-47c7-9848-7efdd4758c76-c000.csv\n",
      "20/01/2021  19:28               145 part-00000-2dea4a9f-d1b0-4dfb-9324-2a134590f6bd-c000.csv\n",
      "20/01/2021  19:29               204 part-00000-2e6a74cb-d738-4ccc-9d8e-ef7ec52bb9be-c000.csv\n",
      "20/01/2021  19:29               149 part-00000-305adf2b-6e63-4b52-b940-51951f7f5013-c000.csv\n",
      "20/01/2021  19:29               145 part-00000-3491679c-71a1-4346-9dd8-3c5bdaec7516-c000.csv\n",
      "20/01/2021  19:29               210 part-00000-375d847e-c7af-4dd2-887e-3caeff17e6d0-c000.csv\n",
      "20/01/2021  19:29               143 part-00000-3778c0b8-c477-408a-b0b2-6d697b91b367-c000.csv\n",
      "20/01/2021  19:29               146 part-00000-3bdccc02-bd7a-485c-a637-ca9d99070045-c000.csv\n",
      "20/01/2021  19:28               256 part-00000-3d18e92e-d110-48a8-b2b2-17f3e1513252-c000.csv\n",
      "20/01/2021  19:29               612 part-00000-3d80bef8-0948-487f-8302-c7bbf8c74bf6-c000.csv\n",
      "20/01/2021  19:29               314 part-00000-3eb856a5-dd3c-412d-b914-44c76f7692ff-c000.csv\n",
      "20/01/2021  19:28             1ÿ946 part-00000-413f9f4a-bf0e-414b-9c0f-882f97019ae2-c000.csv\n",
      "20/01/2021  19:29             1ÿ180 part-00000-4596e746-f584-4315-9855-7d50dc0a2bc1-c000.csv\n",
      "20/01/2021  19:29               485 part-00000-492ddfe2-35e2-4097-a690-3839ac1e0001-c000.csv\n",
      "20/01/2021  19:28               147 part-00000-49aae536-85dd-4bb5-bd9d-54bbaf053167-c000.csv\n",
      "20/01/2021  19:29             1ÿ315 part-00000-4c81f656-94d8-4f00-8f62-8ed9474d4f0a-c000.csv\n",
      "20/01/2021  19:28               147 part-00000-4ce40b1c-37fb-4062-bb44-95fa27dbd53d-c000.csv\n",
      "20/01/2021  19:28               255 part-00000-521b3b7f-d8f7-4221-be46-30259e7b768c-c000.csv\n",
      "20/01/2021  19:28               146 part-00000-52962263-b63e-4cf4-911c-d67c609fa7e5-c000.csv\n",
      "20/01/2021  19:29               149 part-00000-59c80086-fba8-4520-8164-3ba3e05c46b0-c000.csv\n",
      "20/01/2021  19:29               740 part-00000-5b10f12a-cc14-43a9-aa39-c55324aaf6fa-c000.csv\n",
      "20/01/2021  19:29               793 part-00000-5d39c37d-dea9-49d7-ae0d-99844a5c684d-c000.csv\n",
      "20/01/2021  19:28               150 part-00000-60c36661-79ae-49f1-bfeb-aab7a30f8836-c000.csv\n",
      "20/01/2021  19:29               145 part-00000-66762601-f006-414a-9757-f2c652588205-c000.csv\n",
      "20/01/2021  19:28               146 part-00000-6abff9fc-208a-4310-be99-2cdf163e21b3-c000.csv\n",
      "20/01/2021  19:28               436 part-00000-6cc53285-e471-4849-82c7-feb45869de83-c000.csv\n",
      "20/01/2021  19:28               145 part-00000-6d330b7e-ebcc-47be-bbe4-086ac8aec205-c000.csv\n",
      "20/01/2021  19:29               145 part-00000-6e8bf056-35d2-46c8-a61f-91713aaf6783-c000.csv\n",
      "20/01/2021  19:28               150 part-00000-71fdb52f-e563-49f9-8d12-7ee0cfd26198-c000.csv\n",
      "20/01/2021  19:29               205 part-00000-72485807-9dd8-443d-8f52-43dd41d5e453-c000.csv\n",
      "20/01/2021  19:29               311 part-00000-7aeeda99-6cc0-441b-8381-898cbc0be8dc-c000.csv\n",
      "20/01/2021  19:29               373 part-00000-7bc8fcbd-d3b8-4412-af7f-f57df15f4522-c000.csv\n",
      "20/01/2021  19:28               148 part-00000-7d08955b-d5b7-4c07-8717-01c9e9a96b3e-c000.csv\n",
      "20/01/2021  19:28               144 part-00000-7ef29e68-69ad-47c5-8a49-dc77f464fbe6-c000.csv\n",
      "20/01/2021  19:29               147 part-00000-868e6e5b-9dfb-43e5-9d12-3351a4e98dc7-c000.csv\n",
      "20/01/2021  19:28               202 part-00000-8aec3492-41c1-4940-997f-1933c7fae8bd-c000.csv\n",
      "20/01/2021  19:29               260 part-00000-8ee966ce-576d-4660-821a-a200ecea7ed7-c000.csv\n",
      "20/01/2021  19:29               207 part-00000-92efc8d5-0946-44cd-96f7-4844deb8b28b-c000.csv\n",
      "20/01/2021  19:28               148 part-00000-954c1556-4e59-40f0-be0c-13b59ad67d54-c000.csv\n"
     ]
    },
    {
     "name": "stdout",
     "output_type": "stream",
     "text": [
      "20/01/2021  19:28               150 part-00000-95d05e2f-dce7-489f-9aa0-34b83fc723fc-c000.csv\n",
      "20/01/2021  19:28               204 part-00000-95dc865d-c1fb-4659-8bef-15f20df8224c-c000.csv\n",
      "20/01/2021  19:28               145 part-00000-96ac8b70-bd6b-4619-b9d7-fcbbb81b9f65-c000.csv\n",
      "20/01/2021  19:28             1ÿ201 part-00000-98926916-164e-4e55-8175-7ddb429e2475-c000.csv\n",
      "20/01/2021  19:29               149 part-00000-9e728c31-8eec-4009-9352-b8b6e25eeedf-c000.csv\n",
      "20/01/2021  19:28               149 part-00000-9f1817f9-6cf9-454a-85bc-493e03994c39-c000.csv\n",
      "20/01/2021  19:29               153 part-00000-a1697636-15df-46de-955d-3dd19e3839eb-c000.csv\n",
      "20/01/2021  19:29               149 part-00000-a225f480-632f-4ee9-b354-71274b71eb24-c000.csv\n",
      "20/01/2021  19:28               152 part-00000-a354590e-54e6-4e53-bce8-294522d0c572-c000.csv\n",
      "20/01/2021  19:28               201 part-00000-a4ae9f09-e670-4d7a-853b-640231281892-c000.csv\n",
      "20/01/2021  19:28               147 part-00000-a66eea55-af58-465a-b8f4-8e859dadb83b-c000.csv\n",
      "20/01/2021  19:28               148 part-00000-a6ff29e5-2d32-4174-9e0b-c164d80a0223-c000.csv\n",
      "20/01/2021  19:28               148 part-00000-a70f3643-fbb7-4984-9dee-91adc6ce8927-c000.csv\n",
      "20/01/2021  19:29               484 part-00000-a87456ae-6f7d-4200-b64b-425c2372313b-c000.csv\n",
      "20/01/2021  19:28               928 part-00000-a8b392e3-c90c-4bfe-8fc6-40a8c499bb6d-c000.csv\n",
      "20/01/2021  19:28               145 part-00000-a94a7bf1-bd7b-40dc-a92e-96a7997517ca-c000.csv\n",
      "20/01/2021  19:28               149 part-00000-ac43fbf4-05ce-4dbc-8039-9edfd817ff0a-c000.csv\n",
      "20/01/2021  19:28               204 part-00000-ade61110-850e-4c02-aebf-30fa86515141-c000.csv\n",
      "20/01/2021  19:29               150 part-00000-af4a2be8-e42e-4bed-b672-8495503cdb5f-c000.csv\n",
      "20/01/2021  19:29               145 part-00000-af555c41-2a1a-49b3-8cd8-39437cfd21b3-c000.csv\n",
      "20/01/2021  19:29               206 part-00000-b2bd4399-588e-4a9f-808a-6091683a5758-c000.csv\n",
      "20/01/2021  19:28               145 part-00000-b3439403-1d12-490e-9348-5143bec9b1d3-c000.csv\n",
      "20/01/2021  19:28               150 part-00000-b7d91904-77f5-42a8-a317-c3a518e4411b-c000.csv\n",
      "20/01/2021  19:28               146 part-00000-b85dd513-b774-40fa-83b7-c6ef206ad736-c000.csv\n",
      "20/01/2021  19:29               492 part-00000-b9c180f1-0532-4dd2-83d0-f768d57742e4-c000.csv\n",
      "20/01/2021  19:29               146 part-00000-bc5c8dcb-1e15-4fbb-acc4-33f8d2469178-c000.csv\n",
      "20/01/2021  19:29               144 part-00000-be8c2ea1-d483-47bf-82ba-7263fda6cf60-c000.csv\n",
      "20/01/2021  19:28               148 part-00000-bf4e5237-edc5-4dc4-8140-00b170747989-c000.csv\n",
      "20/01/2021  19:28               145 part-00000-bffc44d4-c42c-40b1-a0a2-934602a7c414-c000.csv\n",
      "20/01/2021  19:29               145 part-00000-c173ee64-df22-41d6-80cb-6276b21ade3d-c000.csv\n",
      "20/01/2021  19:28               255 part-00000-c1afcde8-8834-4240-bddd-21acff53f16f-c000.csv\n",
      "20/01/2021  19:29               202 part-00000-c2f4646d-1552-4beb-96b1-67ff329b64ea-c000.csv\n",
      "20/01/2021  19:29               147 part-00000-c30de288-405b-42c2-9017-0fcd7cb96609-c000.csv\n",
      "20/01/2021  19:29               145 part-00000-c3da9c62-ddb2-4ed1-aa4b-3bc8ecac7966-c000.csv\n",
      "20/01/2021  19:28               151 part-00000-c9e79372-d9ce-436c-8825-bc2b30409e57-c000.csv\n",
      "20/01/2021  19:29               144 part-00000-cdb92dae-2ac4-4dbb-ae76-a2f2cec42977-c000.csv\n",
      "20/01/2021  19:28               145 part-00000-cf3929dc-2f0b-4238-a6bb-3fd37fc32485-c000.csv\n",
      "20/01/2021  19:28               148 part-00000-d8ab4297-0e4e-4cdb-b568-d2b0b1355543-c000.csv\n",
      "20/01/2021  19:28               254 part-00000-da3a87fd-ac38-4505-b0cb-012a2f6801ff-c000.csv\n",
      "20/01/2021  19:29               143 part-00000-db9e1263-5855-4f1f-90fb-60e93434cd27-c000.csv\n",
      "20/01/2021  19:28               383 part-00000-dbf76600-4476-430c-bb64-7403d1e666fb-c000.csv\n",
      "20/01/2021  19:28               149 part-00000-dc4c7ee9-80b0-45cd-9170-9094f820d61d-c000.csv\n",
      "20/01/2021  19:29               255 part-00000-de75bd25-0374-41fc-b2f8-45c5f6afa4d6-c000.csv\n",
      "20/01/2021  19:28               150 part-00000-e29579c2-d647-4eb1-b766-567ddb4aa373-c000.csv\n",
      "20/01/2021  19:28               149 part-00000-e3acd4de-6a09-4b2f-88ad-dd85c57fd452-c000.csv\n",
      "20/01/2021  19:28               916 part-00000-e5b714b8-9a09-4f4e-87cf-8d088a56564d-c000.csv\n",
      "20/01/2021  19:28               147 part-00000-e638e95b-44ad-4578-b57b-b09cad50daca-c000.csv\n",
      "20/01/2021  19:29               147 part-00000-e65f9ce4-43bb-45b2-adda-a7988713d9ca-c000.csv\n",
      "20/01/2021  19:28               145 part-00000-e66f8bfb-64c6-462a-a51b-3b9bd3146bcd-c000.csv\n",
      "20/01/2021  19:29               263 part-00000-e78cf6c8-fffc-4b24-9bd1-c25c635f9151-c000.csv\n",
      "20/01/2021  19:28               147 part-00000-e9fb3d1e-c300-456d-9bf4-5b7aa65040fe-c000.csv\n",
      "20/01/2021  19:29               382 part-00000-ea0d7689-9673-4340-b093-18cf560e06f0-c000.csv\n",
      "20/01/2021  19:29               145 part-00000-ec43890f-3164-4a9f-8245-1d1b8a47b6ee-c000.csv\n",
      "20/01/2021  19:28               149 part-00000-ec85a93e-7c97-4030-9438-fcb8a38f48cf-c000.csv\n",
      "20/01/2021  19:28               149 part-00000-ec899b43-2fd4-4a00-ba44-3d479714167e-c000.csv\n",
      "20/01/2021  19:28               151 part-00000-f70ebefa-063a-4587-8fa9-1a3755c5ac47-c000.csv\n",
      "20/01/2021  19:29               148 part-00000-f7a1ff39-7366-4767-9f8a-01763563e2a2-c000.csv\n",
      "20/01/2021  19:29               149 part-00000-fafe793e-11ca-41a9-ad71-d252f43e4582-c000.csv\n",
      "20/01/2021  19:28             4ÿ792 part-00000-fb1bf771-a303-4023-866d-8ff5ae92cd99-c000.csv\n",
      "20/01/2021  19:28               151 part-00000-fb2b51a6-b5bd-4905-b2b2-d3711ef54860-c000.csv\n",
      "20/01/2021  19:28               147 part-00000-fc45a91a-384a-41a9-8517-6e627906461b-c000.csv\n",
      "20/01/2021  19:29               145 part-00000-fc70086e-8c89-4fba-b0cc-4b6e81911434-c000.csv\n",
      "20/01/2021  19:29               252 part-00000-fe00e0a6-6be0-44d5-9c14-c190b280ead7-c000.csv\n",
      "20/01/2021  19:29                 0 _SUCCESS\n",
      "             258 fichier(s)           41ÿ242 octets\n",
      "               2 R‚p(s)  64ÿ280ÿ223ÿ744 octets libres\n"
     ]
    }
   ],
   "source": [
    "!cd data/ && dir"
   ]
  },
  {
   "cell_type": "code",
   "execution_count": 9,
   "metadata": {},
   "outputs": [],
   "source": [
    "part = spark.read.csv(\n",
    "    \"data/part-00000-01d0e021-4bab-4001-8387-8815fddab4a9-c000.csv\",\n",
    "    header=True,\n",
    "    inferSchema=True,\n",
    ")"
   ]
  },
  {
   "cell_type": "code",
   "execution_count": 10,
   "metadata": {},
   "outputs": [
    {
     "name": "stdout",
     "output_type": "stream",
     "text": [
      "+-------+-----+\n",
      "|Country|count|\n",
      "+-------+-----+\n",
      "|  China|    2|\n",
      "+-------+-----+\n",
      "\n"
     ]
    }
   ],
   "source": [
    "part.groupBy(\"Country\").count().show()"
   ]
  },
  {
   "cell_type": "markdown",
   "metadata": {},
   "source": [
    "Let’s create a streaming version of this input, we'll read each file one by one as if it was a stream."
   ]
  },
  {
   "cell_type": "code",
   "execution_count": 11,
   "metadata": {},
   "outputs": [],
   "source": [
    "dataSchema = df1.schema"
   ]
  },
  {
   "cell_type": "code",
   "execution_count": 12,
   "metadata": {},
   "outputs": [
    {
     "data": {
      "text/plain": [
       "StructType(List(StructField(SNo,IntegerType,true),StructField(ObservationDate,StringType,true),StructField(Province,StringType,true),StructField(Country,StringType,true),StructField(Last_Update,StringType,true),StructField(Confirmed,IntegerType,true),StructField(Deaths,IntegerType,true),StructField(Recovered,IntegerType,true),StructField(Active_case,DoubleType,true)))"
      ]
     },
     "execution_count": 12,
     "metadata": {},
     "output_type": "execute_result"
    }
   ],
   "source": [
    "dataSchema"
   ]
  },
  {
   "cell_type": "markdown",
   "metadata": {},
   "source": [
    "*maxFilesPerTrigger* allows you to control how quickly Spark will read all of the files in the folder. \n",
    "In this example we're limiting the flow of the stream to one file per trigger."
   ]
  },
  {
   "cell_type": "code",
   "execution_count": 13,
   "metadata": {},
   "outputs": [],
   "source": [
    "streaming = (\n",
    "    spark.readStream.schema(dataSchema)\n",
    "    .option(\"maxFilesPerTrigger\", 1)\n",
    "    .csv(\"data/\")\n",
    ")"
   ]
  },
  {
   "cell_type": "markdown",
   "metadata": {},
   "source": [
    "Let's set up a transformation.\n",
    "\n",
    "The Confirmed column is the recipient ID of the transaction."
   ]
  },
  {
   "cell_type": "code",
   "execution_count": 14,
   "metadata": {},
   "outputs": [],
   "source": [
    "confirmed_Country = streaming.groupBy(\"Confirmed\").count().orderBy(F.desc(\"Confirmed\"))"
   ]
  },
  {
   "cell_type": "markdown",
   "metadata": {},
   "source": [
    "Now that we have our transformation, we need to specify an output sink for the results. For this example, we're going to write to a memory sink which keeps the results in memory.\n",
    "\n",
    "We also need to define how Spark will output that data. In this example, we'll use the complete output mode (rewriting all of the keys along with their counts after every trigger).\n",
    "\n",
    "In this example we won't include activityQuery.awaitTermination() because it is required only to prevent the driver process from terminating when the stream is active.\n",
    "\n",
    "So in order to be able to run this locally in a notebook we won't include it."
   ]
  },
  {
   "cell_type": "code",
   "execution_count": 15,
   "metadata": {},
   "outputs": [
    {
     "name": "stdout",
     "output_type": "stream",
     "text": [
      "+---------+-----+\n",
      "|Confirmed|count|\n",
      "+---------+-----+\n",
      "|      151|    1|\n",
      "|     null|    1|\n",
      "+---------+-----+\n",
      "\n",
      "+---------+-----+\n",
      "|Confirmed|count|\n",
      "+---------+-----+\n",
      "|      151|    1|\n",
      "|     null|    1|\n",
      "+---------+-----+\n",
      "\n",
      "+---------+-----+\n",
      "|Confirmed|count|\n",
      "+---------+-----+\n",
      "|      151|    1|\n",
      "|     null|    1|\n",
      "+---------+-----+\n",
      "\n",
      "+---------+-----+\n",
      "|Confirmed|count|\n",
      "+---------+-----+\n",
      "|      173|    1|\n",
      "|      151|    1|\n",
      "|     null|    2|\n",
      "+---------+-----+\n",
      "\n"
     ]
    }
   ],
   "source": [
    "activityQuery = (\n",
    "    confirmed_Country.writeStream.queryName(\"confirmed_Country\")\n",
    "    .format(\"memory\")\n",
    "    .outputMode(\"complete\")\n",
    "    .start()\n",
    ")\n",
    "\n",
    "# include this in production\n",
    "#activityQuery.awaitTermination()\n",
    "\n",
    "import time\n",
    "\n",
    "for x in range(10):\n",
    "    _df = spark.sql(\n",
    "        \"SELECT * FROM confirmed_Country\"\n",
    "    )\n",
    "    if _df.count() > 0:\n",
    "        _df.show(10)\n",
    "    time.sleep(0.5)"
   ]
  },
  {
   "cell_type": "markdown",
   "metadata": {},
   "source": [
    "Check if stream is active"
   ]
  },
  {
   "cell_type": "code",
   "execution_count": null,
   "metadata": {},
   "outputs": [],
   "source": [
    "spark.streams.active[0].isActive"
   ]
  },
  {
   "cell_type": "code",
   "execution_count": null,
   "metadata": {},
   "outputs": [],
   "source": [
    "activityQuery.status"
   ]
  },
  {
   "cell_type": "markdown",
   "metadata": {},
   "source": [
    "If we  want to turn off the stream we'll run activityQuery.stop() to reset the query for testing purposes."
   ]
  },
  {
   "cell_type": "code",
   "execution_count": 98,
   "metadata": {},
   "outputs": [],
   "source": [
    "activityQuery.stop()"
   ]
  },
  {
   "cell_type": "code",
   "execution_count": null,
   "metadata": {},
   "outputs": [],
   "source": []
  }
 ],
 "metadata": {
  "kernelspec": {
   "display_name": "Python 3",
   "language": "python",
   "name": "python3"
  },
  "language_info": {
   "codemirror_mode": {
    "name": "ipython",
    "version": 3
   },
   "file_extension": ".py",
   "mimetype": "text/x-python",
   "name": "python",
   "nbconvert_exporter": "python",
   "pygments_lexer": "ipython3",
   "version": "3.8.3"
  }
 },
 "nbformat": 4,
 "nbformat_minor": 4
}
