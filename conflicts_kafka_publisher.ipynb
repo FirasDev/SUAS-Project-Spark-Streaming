{
 "cells": [
  {
   "cell_type": "code",
   "execution_count": 8,
   "metadata": {
    "scrolled": false
   },
   "outputs": [
    {
     "name": "stdout",
     "output_type": "stream",
     "text": [
      "{'': '0', 'ISO': '12', 'EVENT_DATE': '2010-12-20', 'EVENT_TYPE': 'Battles', 'SUB_EVENT_TYPE': 'Armed clash', 'ACTOR1': 'Military Forces of Algeria (1999-)', 'ASSOC_ACTOR_1': '', 'ACTOR2': 'Unidentified Armed Group (Algeria)', 'ASSOC_ACTOR_2': '', 'INTERACTION': '13', 'REGION': 'Northern Africa', 'COUNTRY': 'Algeria', 'ADMIN1': 'Boumerdes', 'ADMIN2': 'Ammal', 'LOCATION': 'Ait Dahmane', 'SOURCE': 'TSA Algerie', 'NOTES': 'A militant was captured by security forces on 20 December after a violent skirmish with an armed group in Ait Dahmane in the Ammal region southeast of Boumerdes. A Kalashnikov-type weapon belonging to the militant was recovered by the soldiers. The skirmish occurred as the security forces were conducting a search in that region. The militants capture was facilitated by the fact that he was wounded. The rest of the armed group was successful in fleeing, according to the same source.', 'FATALITIES': '0'}\n",
      "row sent to kafka topic\n",
      "{'': '1', 'ISO': '12', 'EVENT_DATE': '2010-12-25', 'EVENT_TYPE': 'Riots', 'SUB_EVENT_TYPE': 'Violent demonstration', 'ACTOR1': 'Police Forces of Algeria (1999-)', 'ASSOC_ACTOR_1': '', 'ACTOR2': 'Rioters (Algeria)', 'ASSOC_ACTOR_2': '', 'INTERACTION': '15', 'REGION': 'Northern Africa', 'COUNTRY': 'Algeria', 'ADMIN1': 'Alger', 'ADMIN2': \"Sidi M'Hamed\", 'LOCATION': 'Algiers', 'SOURCE': 'Liberte (Algeria)', 'NOTES': 'Riots broke out in districts covered by the programme to re-house 10,000 families. on 25 December, inhabitants of Les Palmiers district, in the municipality of Bachdjarah blocked the Oued Ouchayah tunnel to traffic for hours, in both directions, and there were clashes with the forces of order. Residents feel they are excluded from resettlement programs as their homes fall into a state of disrepair and unsanitary living conditions.', 'FATALITIES': '0'}\n",
      "row sent to kafka topic\n",
      "{'': '2', 'ISO': '12', 'EVENT_DATE': '2010-12-26', 'EVENT_TYPE': 'Battles', 'SUB_EVENT_TYPE': 'Armed clash', 'ACTOR1': 'AQIM: Al Qaeda in the Islamic Maghreb', 'ASSOC_ACTOR_1': '', 'ACTOR2': 'Military Forces of Algeria (1999-)', 'ASSOC_ACTOR_2': '', 'INTERACTION': '12', 'REGION': 'Northern Africa', 'COUNTRY': 'Algeria', 'ADMIN1': 'Jijel', 'ADMIN2': 'Jijel', 'LOCATION': 'Jijel', 'SOURCE': 'Xinhua', 'NOTES': 'Two AQLMI militants are killed and five wounded in a shootout with soldiers. The operation, staged in Djemaa bni Habibi commune, about 40 km eastern Jijel, aimed to wipe out strongholds of the militants.', 'FATALITIES': '2'}\n",
      "row sent to kafka topic\n",
      "{'': '3', 'ISO': '12', 'EVENT_DATE': '2010-12-27', 'EVENT_TYPE': 'Riots', 'SUB_EVENT_TYPE': 'Violent demonstration', 'ACTOR1': 'Rioters (Algeria)', 'ASSOC_ACTOR_1': '', 'ACTOR2': '', 'ASSOC_ACTOR_2': '', 'INTERACTION': '50', 'REGION': 'Northern Africa', 'COUNTRY': 'Algeria', 'ADMIN1': 'Alger', 'ADMIN2': 'Baraki', 'LOCATION': 'Baraki', 'SOURCE': 'Liberte (Algeria)', 'NOTES': 'Clashes have taken place in the city of Palmiers, Laaquiba and Baraki because of re-housing. In Baraki, the residents of Hai Al-Baraka have still not subsided, despite the vague promises by local authorities. Residents feel they are excluded from resettlement programs as their homes fall into a state of disrepair and unsanitary living conditions.', 'FATALITIES': '0'}\n",
      "row sent to kafka topic\n",
      "{'': '4', 'ISO': '12', 'EVENT_DATE': '2010-12-27', 'EVENT_TYPE': 'Riots', 'SUB_EVENT_TYPE': 'Violent demonstration', 'ACTOR1': 'Police Forces of Algeria (1999-)', 'ASSOC_ACTOR_1': '', 'ACTOR2': 'Rioters (Algeria)', 'ASSOC_ACTOR_2': '', 'INTERACTION': '15', 'REGION': 'Northern Africa', 'COUNTRY': 'Algeria', 'ADMIN1': 'Alger', 'ADMIN2': \"Sidi M'Hamed\", 'LOCATION': \"Sidi M'Hamed\", 'SOURCE': 'Liberte (Algeria); Al Jazeera', 'NOTES': 'Clashes have taken place in the city of Palmiers, Laaquiba and Baraki because of re-housing. In Sidi-Mhamed, the residents of Laaquiba went out into the street on the night of Monday to Tuesday [27 to 28 December] to express their anger. Residents feel they are excluded from resettlement programs as their homes fall into a state of disrepair and unsanitary living conditions. People living in these areas burnt tires and threw stones and Molotov cocktails at police, who responded with tear gas and arrests.', 'FATALITIES': '0'}\n",
      "row sent to kafka topic\n",
      "{'': '5', 'ISO': '12', 'EVENT_DATE': '2010-12-27', 'EVENT_TYPE': 'Riots', 'SUB_EVENT_TYPE': 'Violent demonstration', 'ACTOR1': 'Police Forces of Algeria (1999-)', 'ASSOC_ACTOR_1': '', 'ACTOR2': 'Rioters (Algeria)', 'ASSOC_ACTOR_2': '', 'INTERACTION': '15', 'REGION': 'Northern Africa', 'COUNTRY': 'Algeria', 'ADMIN1': 'Alger', 'ADMIN2': \"Sidi M'Hamed\", 'LOCATION': 'Algiers', 'SOURCE': 'Liberte (Algeria)', 'NOTES': 'In the city of Palmiers, clashes between demonstrators and security forces continued on the night of Monday to Tuesday [27 to 28 December] when young people threw from the top of a building a bottle of butane gas on the police station located in the former middle school. Residents feel they are excluded from resettlement programs as their homes fall into a state of disrepair and unsanitary living conditions.', 'FATALITIES': '0'}\n",
      "row sent to kafka topic\n",
      "{'': '6', 'ISO': '12', 'EVENT_DATE': '2010-12-29', 'EVENT_TYPE': 'Riots', 'SUB_EVENT_TYPE': 'Violent demonstration', 'ACTOR1': 'Rioters (Algeria)', 'ASSOC_ACTOR_1': '', 'ACTOR2': 'Police Forces of Algeria (1999-)', 'ASSOC_ACTOR_2': '', 'INTERACTION': '15', 'REGION': 'Northern Africa', 'COUNTRY': 'Algeria', 'ADMIN1': 'Alger', 'ADMIN2': \"Sidi M'Hamed\", 'LOCATION': 'Algiers', 'SOURCE': 'Al Jazeera', 'NOTES': '53 people are injured and 29 arrested during a protest over inadequate housing.', 'FATALITIES': '0'}\n",
      "row sent to kafka topic\n",
      "{'': '7', 'ISO': '12', 'EVENT_DATE': '2010-12-29', 'EVENT_TYPE': 'Riots', 'SUB_EVENT_TYPE': 'Violent demonstration', 'ACTOR1': 'Police Forces of Algeria (1999-)', 'ASSOC_ACTOR_1': '', 'ACTOR2': 'Rioters (Algeria)', 'ASSOC_ACTOR_2': '', 'INTERACTION': '15', 'REGION': 'Northern Africa', 'COUNTRY': 'Algeria', 'ADMIN1': 'Alger', 'ADMIN2': \"Sidi M'Hamed\", 'LOCATION': 'Algiers', 'SOURCE': 'Al Jazeera', 'NOTES': 'Protests over inadequate housing spread to other suburbs of Algiers, with protesters taking to the streets against the lack of housing in Ennakhil, Diar el Babor and Cervantes. People living in these areas burnt tires and threw stones and Molotov cocktails at police, who responded with tear gas and arrests.', 'FATALITIES': '0'}\n",
      "row sent to kafka topic\n",
      "{'': '8', 'ISO': '12', 'EVENT_DATE': '2010-12-30', 'EVENT_TYPE': 'Battles', 'SUB_EVENT_TYPE': 'Armed clash', 'ACTOR1': 'Unidentified Armed Group (Algeria)', 'ASSOC_ACTOR_1': '', 'ACTOR2': 'Military Forces of Algeria (1999-)', 'ASSOC_ACTOR_2': '', 'INTERACTION': '13', 'REGION': 'Northern Africa', 'COUNTRY': 'Algeria', 'ADMIN1': 'Boumerdes', 'ADMIN2': 'Boumerdes', 'LOCATION': 'Boumerdes', 'SOURCE': 'Kuwait News Agency', 'NOTES': 'Security forces kill a member of a terror organization and wound two others during a raid on their compound.', 'FATALITIES': '1'}\n",
      "row sent to kafka topic\n",
      "{'': '9', 'ISO': '12', 'EVENT_DATE': '2011-01-02', 'EVENT_TYPE': 'Explosions/Remote violence', 'SUB_EVENT_TYPE': 'Remote explosive/landmine/IED', 'ACTOR1': 'Unidentified Armed Group (Algeria)', 'ASSOC_ACTOR_1': '', 'ACTOR2': '', 'ASSOC_ACTOR_2': '', 'INTERACTION': '30', 'REGION': 'Northern Africa', 'COUNTRY': 'Algeria', 'ADMIN1': 'Bouira', 'ADMIN2': 'Kadiria', 'LOCATION': 'Kadiria', 'SOURCE': 'Le Jeune Independant', 'NOTES': 'A homemade bomb buried in the ground exploded on 2 January in Kadiria, located 20 kilometres to the east of Lakhdaria, in the wilaya of Bouira. The attack occurred as a freight train passed through coming from Algiers and going to Beni Mansour. The explosion did not result in human losses though there were material damages.', 'FATALITIES': '0'}\n",
      "row sent to kafka topic\n",
      "{'': '10', 'ISO': '12', 'EVENT_DATE': '2011-01-03', 'EVENT_TYPE': 'Riots', 'SUB_EVENT_TYPE': 'Violent demonstration', 'ACTOR1': 'Rioters (Algeria)', 'ASSOC_ACTOR_1': '', 'ACTOR2': '', 'ASSOC_ACTOR_2': '', 'INTERACTION': '50', 'REGION': 'Northern Africa', 'COUNTRY': 'Algeria', 'ADMIN1': 'Tipaza', 'ADMIN2': 'Tipaza', 'LOCATION': 'Tipaza', 'SOURCE': 'AFP', 'NOTES': 'Demonstrators blocked roads on 3 January in Tipaza, west of the capital, in protest against food prices and difficult living conditions.', 'FATALITIES': '0'}\n"
     ]
    },
    {
     "name": "stdout",
     "output_type": "stream",
     "text": [
      "row sent to kafka topic\n",
      "{'': '11', 'ISO': '12', 'EVENT_DATE': '2011-01-04', 'EVENT_TYPE': 'Protests', 'SUB_EVENT_TYPE': 'Peaceful protest', 'ACTOR1': 'Protesters (Algeria)', 'ASSOC_ACTOR_1': '', 'ACTOR2': '', 'ASSOC_ACTOR_2': '', 'INTERACTION': '60', 'REGION': 'Northern Africa', 'COUNTRY': 'Algeria', 'ADMIN1': 'Alger', 'ADMIN2': \"Sidi M'Hamed\", 'LOCATION': 'Algiers', 'SOURCE': 'Algeria Press Service', 'NOTES': 'More than a hundred docker workers in the port of Algiers, observed a work stoppage on 4 January to protest against new measures relating to overtime compensation and shifts.', 'FATALITIES': '0'}\n",
      "row sent to kafka topic\n",
      "{'': '12', 'ISO': '12', 'EVENT_DATE': '2011-01-04', 'EVENT_TYPE': 'Riots', 'SUB_EVENT_TYPE': 'Violent demonstration', 'ACTOR1': 'Rioters (Algeria)', 'ASSOC_ACTOR_1': '', 'ACTOR2': '', 'ASSOC_ACTOR_2': '', 'INTERACTION': '50', 'REGION': 'Northern Africa', 'COUNTRY': 'Algeria', 'ADMIN1': 'Alger', 'ADMIN2': 'Bab El Oued', 'LOCATION': 'Bab El Oued', 'SOURCE': 'La Tribune (Algeria)', 'NOTES': 'On 4 January, young rioters, some of which came from out of the stadium Bologhine, burned tires and chanted anti-government slogans in the Bab El Oued district.', 'FATALITIES': '0'}\n",
      "row sent to kafka topic\n",
      "{'': '13', 'ISO': '12', 'EVENT_DATE': '2011-01-05', 'EVENT_TYPE': 'Protests', 'SUB_EVENT_TYPE': 'Peaceful protest', 'ACTOR1': 'Protesters (Algeria)', 'ASSOC_ACTOR_1': '', 'ACTOR2': '', 'ASSOC_ACTOR_2': '', 'INTERACTION': '60', 'REGION': 'Northern Africa', 'COUNTRY': 'Algeria', 'ADMIN1': 'Alger', 'ADMIN2': 'Zeralda', 'LOCATION': 'Staoueli', 'SOURCE': 'Al Jazeera', 'NOTES': 'Demonstration took place on 5 January in several districts of Algiers, in protest at food price hikes. The demonstrations took place in La Place des Martyrs (Casbah), Belcourt, Bachdjarrah, Bab El Oued and Staoueli (all in Algiers Province), as well in Djelfa, in southern Algeria.', 'FATALITIES': '0'}\n",
      "row sent to kafka topic\n",
      "{'': '14', 'ISO': '12', 'EVENT_DATE': '2011-01-05', 'EVENT_TYPE': 'Protests', 'SUB_EVENT_TYPE': 'Peaceful protest', 'ACTOR1': 'Protesters (Algeria)', 'ASSOC_ACTOR_1': '', 'ACTOR2': '', 'ASSOC_ACTOR_2': '', 'INTERACTION': '60', 'REGION': 'Northern Africa', 'COUNTRY': 'Algeria', 'ADMIN1': 'Alger', 'ADMIN2': 'Hussein Dey', 'LOCATION': 'Belcourt', 'SOURCE': 'Al Jazeera', 'NOTES': 'Demonstration took place on 5 January in several districts of Algiers, in protest at food price hikes. The demonstrations took place in La Place des Martyrs (Casbah), Belcourt, Bachdjarrah, Bab El Oued and Staoueli (all in Algiers Province), as well in Djelfa, in southern Algeria.', 'FATALITIES': '0'}\n",
      "row sent to kafka topic\n",
      "{'': '15', 'ISO': '12', 'EVENT_DATE': '2011-01-05', 'EVENT_TYPE': 'Protests', 'SUB_EVENT_TYPE': 'Peaceful protest', 'ACTOR1': 'Protesters (Algeria)', 'ASSOC_ACTOR_1': '', 'ACTOR2': '', 'ASSOC_ACTOR_2': '', 'INTERACTION': '60', 'REGION': 'Northern Africa', 'COUNTRY': 'Algeria', 'ADMIN1': 'Djelfa', 'ADMIN2': 'Djelfa', 'LOCATION': 'Djelfa', 'SOURCE': 'Al Jazeera', 'NOTES': 'Demonstration took place on 5 January in several districts of Algiers, in protest at food price hikes. The demonstrations took place in La Place des Martyrs (Casbah), Belcourt, Bachdjarrah, Bab El Oued and Staoueli (all in Algiers Province), as well in Djelfa, in southern Algeria.', 'FATALITIES': '0'}\n"
     ]
    },
    {
     "ename": "KeyboardInterrupt",
     "evalue": "",
     "output_type": "error",
     "traceback": [
      "\u001b[0;31m---------------------------------------------------------------------------\u001b[0m",
      "\u001b[0;31mKeyboardInterrupt\u001b[0m                         Traceback (most recent call last)",
      "\u001b[0;32m<ipython-input-8-730072b18a27>\u001b[0m in \u001b[0;36m<module>\u001b[0;34m\u001b[0m\n\u001b[1;32m     15\u001b[0m         \u001b[0mprint\u001b[0m\u001b[0;34m(\u001b[0m\u001b[0mrow\u001b[0m\u001b[0;34m)\u001b[0m\u001b[0;34m\u001b[0m\u001b[0;34m\u001b[0m\u001b[0m\n\u001b[1;32m     16\u001b[0m         \u001b[0mproducer\u001b[0m\u001b[0;34m.\u001b[0m\u001b[0msend\u001b[0m\u001b[0;34m(\u001b[0m\u001b[0;34m'conflicts'\u001b[0m\u001b[0;34m,\u001b[0m\u001b[0mvalue\u001b[0m\u001b[0;34m=\u001b[0m\u001b[0mrow\u001b[0m\u001b[0;34m)\u001b[0m\u001b[0;34m\u001b[0m\u001b[0;34m\u001b[0m\u001b[0m\n\u001b[0;32m---> 17\u001b[0;31m         \u001b[0msleep\u001b[0m\u001b[0;34m(\u001b[0m\u001b[0;36m2\u001b[0m\u001b[0;34m)\u001b[0m\u001b[0;34m\u001b[0m\u001b[0;34m\u001b[0m\u001b[0m\n\u001b[0m\u001b[1;32m     18\u001b[0m         \u001b[0mprint\u001b[0m\u001b[0;34m(\u001b[0m\u001b[0;34m\"row sent to kafka topic\"\u001b[0m\u001b[0;34m)\u001b[0m\u001b[0;34m\u001b[0m\u001b[0;34m\u001b[0m\u001b[0m\n\u001b[1;32m     19\u001b[0m         \u001b[0;32mif\u001b[0m \u001b[0mn\u001b[0m \u001b[0;34m==\u001b[0m \u001b[0;36m20\u001b[0m\u001b[0;34m:\u001b[0m\u001b[0;34m\u001b[0m\u001b[0;34m\u001b[0m\u001b[0m\n",
      "\u001b[0;31mKeyboardInterrupt\u001b[0m: "
     ]
    }
   ],
   "source": [
    "from time import sleep\n",
    "from json import dumps\n",
    "from kafka import KafkaProducer\n",
    "import pandas as pd\n",
    "import json\n",
    "import csv\n",
    "\n",
    "producer = KafkaProducer(bootstrap_servers=['localhost:9092'],\n",
    "value_serializer=lambda x:\n",
    "    dumps(x).encode('utf-8'))\n",
    "n=0\n",
    "with open(\"conflicts.csv\") as file:\n",
    "    reader = csv.DictReader(file, delimiter=\",\")\n",
    "    for row in reader:\n",
    "        producer.send('conflicts',value=row)\n",
    "        sleep(2)\n",
    "        print(\"row sent to kafka topic\")\n",
    "        if n == 20: \n",
    "            break\n",
    "        n += 1\n",
    "print(\"Successfully sent data to kafka topic\")"
   ]
  },
  {
   "cell_type": "code",
   "execution_count": null,
   "metadata": {},
   "outputs": [],
   "source": []
  }
 ],
 "metadata": {
  "kernelspec": {
   "display_name": "Python 3",
   "language": "python",
   "name": "python3"
  },
  "language_info": {
   "codemirror_mode": {
    "name": "ipython",
    "version": 3
   },
   "file_extension": ".py",
   "mimetype": "text/x-python",
   "name": "python",
   "nbconvert_exporter": "python",
   "pygments_lexer": "ipython3",
   "version": "3.9.1"
  }
 },
 "nbformat": 4,
 "nbformat_minor": 4
}
