{
 "cells": [
  {
   "cell_type": "markdown",
   "metadata": {},
   "source": [
    "## Kafka Publisher/Producer to server\n",
    "\n",
    "### This streams the dataset file line by line to the kafka topic \"conflicts\"\n",
    "#### the Kafa topic was created using this command\n",
    "kafka-topics.sh --create --zookeeper localhost:2181 --replication-factor 1 --partitions 1 --topic conflicts\n",
    "#### to test a producer on this topic\n",
    "kafka-console-producer.sh --broker-list localhost:9092 --topic conflicts\n",
    "#### you  can visualize the data being streamed by creating a consumer\n",
    "kafka-console-consumer.sh --bootstrap-server localhost:9092 --topic conflicts --from-beginning"
   ]
  },
  {
   "cell_type": "code",
   "execution_count": 2,
   "metadata": {
    "scrolled": false
   },
   "outputs": [
    {
     "name": "stdout",
     "output_type": "stream",
     "text": [
      "row sent to kafka topic\n",
      "row sent to kafka topic\n",
      "row sent to kafka topic\n",
      "row sent to kafka topic\n",
      "row sent to kafka topic\n",
      "row sent to kafka topic\n",
      "row sent to kafka topic\n",
      "row sent to kafka topic\n",
      "row sent to kafka topic\n",
      "row sent to kafka topic\n",
      "row sent to kafka topic\n",
      "row sent to kafka topic\n",
      "row sent to kafka topic\n"
     ]
    },
    {
     "ename": "KeyboardInterrupt",
     "evalue": "",
     "output_type": "error",
     "traceback": [
      "\u001b[0;31m---------------------------------------------------------------------------\u001b[0m",
      "\u001b[0;31mKeyboardInterrupt\u001b[0m                         Traceback (most recent call last)",
      "\u001b[0;32m<ipython-input-2-180da972639a>\u001b[0m in \u001b[0;36m<module>\u001b[0;34m\u001b[0m\n\u001b[1;32m     16\u001b[0m         \u001b[0mproducer\u001b[0m\u001b[0;34m.\u001b[0m\u001b[0msend\u001b[0m\u001b[0;34m(\u001b[0m\u001b[0;34m'conflicts'\u001b[0m\u001b[0;34m,\u001b[0m\u001b[0mvalue\u001b[0m\u001b[0;34m=\u001b[0m\u001b[0mrow\u001b[0m\u001b[0;34m)\u001b[0m\u001b[0;34m\u001b[0m\u001b[0;34m\u001b[0m\u001b[0m\n\u001b[1;32m     17\u001b[0m         \u001b[0;31m#time between rows\u001b[0m\u001b[0;34m\u001b[0m\u001b[0;34m\u001b[0m\u001b[0;34m\u001b[0m\u001b[0m\n\u001b[0;32m---> 18\u001b[0;31m         \u001b[0msleep\u001b[0m\u001b[0;34m(\u001b[0m\u001b[0;36m2\u001b[0m\u001b[0;34m)\u001b[0m\u001b[0;34m\u001b[0m\u001b[0;34m\u001b[0m\u001b[0m\n\u001b[0m\u001b[1;32m     19\u001b[0m         \u001b[0mprint\u001b[0m\u001b[0;34m(\u001b[0m\u001b[0;34m\"row sent to kafka topic\"\u001b[0m\u001b[0;34m)\u001b[0m\u001b[0;34m\u001b[0m\u001b[0;34m\u001b[0m\u001b[0m\n\u001b[1;32m     20\u001b[0m         \u001b[0;31m#comment this section to delimit the rows to be sent\u001b[0m\u001b[0;34m\u001b[0m\u001b[0;34m\u001b[0m\u001b[0;34m\u001b[0m\u001b[0m\n",
      "\u001b[0;31mKeyboardInterrupt\u001b[0m: "
     ]
    }
   ],
   "source": [
    "from time import sleep\n",
    "from json import dumps\n",
    "from kafka import KafkaProducer\n",
    "import pandas as pd\n",
    "import json\n",
    "import csv\n",
    "\n",
    "producer = KafkaProducer(bootstrap_servers=['localhost:9092'],\n",
    "value_serializer=lambda x:\n",
    "    dumps(x).encode('utf-8'))\n",
    "n=0\n",
    "with open(\"conflicts.csv\") as file:\n",
    "    reader = csv.DictReader(file, delimiter=\",\")\n",
    "    for row in reader:\n",
    "        #print(row)\n",
    "        producer.send('conflicts',value=row)\n",
    "        #time between rows\n",
    "        sleep(2)\n",
    "        print(\"row sent to kafka topic\")\n",
    "        #comment this section to delimit the rows to be sent\n",
    "        if n == 20: \n",
    "            break\n",
    "        n += 1\n",
    "print(\"Successfully sent data to kafka topic\")"
   ]
  },
  {
   "cell_type": "code",
   "execution_count": null,
   "metadata": {},
   "outputs": [],
   "source": []
  }
 ],
 "metadata": {
  "kernelspec": {
   "display_name": "Python 3",
   "language": "python",
   "name": "python3"
  },
  "language_info": {
   "codemirror_mode": {
    "name": "ipython",
    "version": 3
   },
   "file_extension": ".py",
   "mimetype": "text/x-python",
   "name": "python",
   "nbconvert_exporter": "python",
   "pygments_lexer": "ipython3",
   "version": "3.9.1"
  }
 },
 "nbformat": 4,
 "nbformat_minor": 4
}
