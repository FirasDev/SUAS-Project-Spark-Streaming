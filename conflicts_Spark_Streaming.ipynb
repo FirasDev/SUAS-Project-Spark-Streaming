{
 "cells": [
  {
   "cell_type": "code",
   "execution_count": 1,
   "metadata": {},
   "outputs": [],
   "source": [
    "#import pandas as pd\n",
    "\n",
    "#in_csv = 'conflicts.csv'\n",
    "#number_lines = sum(1 for row in (open(in_csv)))\n",
    "#rowsize = 5000\n",
    "#for i in range(1,number_lines,rowsize):\n",
    "#    df = pd.read_csv(in_csv,\n",
    "#          header=None,\n",
    "#          nrows = rowsize,#number of rows to read at each loop\n",
    "#          skiprows = i)\n",
    "#    out_csv = 'conflicts' + str(i) + '.csv'\n",
    "#    df.to_csv(out_csv,\n",
    "#          index=False,\n",
    "#          header=False,\n",
    "#          mode='a',#append data to csv file\n",
    "#          chunksize=rowsize)#size of data to append for each loop\n",
    "\n",
    "import findspark\n",
    "findspark.init()\n",
    "from pyspark.sql import SparkSession\n",
    "import pyspark.sql.functions as F\n",
    "import pyspark.sql.types as T\n",
    "\n",
    "spark = SparkSession \\\n",
    "    .builder \\\n",
    "    .appName(\"ConflictsApp\") \\\n",
    "    .getOrCreate()"
   ]
  },
  {
   "cell_type": "code",
   "execution_count": 2,
   "metadata": {},
   "outputs": [
    {
     "data": {
      "text/plain": [
       "StructType(List(StructField(_c0,IntegerType,true),StructField(ISO,IntegerType,true),StructField(EVENT_DATE,StringType,true),StructField(EVENT_TYPE,StringType,true),StructField(SUB_EVENT_TYPE,StringType,true),StructField(ACTOR1,StringType,true),StructField(ASSOC_ACTOR_1,StringType,true),StructField(ACTOR2,StringType,true),StructField(ASSOC_ACTOR_2,StringType,true),StructField(INTERACTION,IntegerType,true),StructField(REGION,StringType,true),StructField(COUNTRY,StringType,true),StructField(ADMIN1,StringType,true),StructField(ADMIN2,StringType,true),StructField(LOCATION,StringType,true),StructField(SOURCE,StringType,true),StructField(NOTES,StringType,true),StructField(FATALITIES,StringType,true)))"
      ]
     },
     "execution_count": 2,
     "metadata": {},
     "output_type": "execute_result"
    }
   ],
   "source": [
    "part = spark.read.csv(\n",
    "    \"conflicts.csv\",\n",
    "    header=True,\n",
    "    inferSchema=True,\n",
    ")\n",
    "dataSchema = part.schema\n",
    "df = ( spark \\\n",
    "    .readStream \\\n",
    "    .option(\"sep\", \",\") \\\n",
    "    .schema(dataSchema) \\\n",
    "    .option(\"maxFilesPerTrigger\", 1) \\\n",
    "    .csv(\"data_conflicts/\") )  \n",
    "dataSchema"
   ]
  },
  {
   "cell_type": "code",
   "execution_count": 3,
   "metadata": {},
   "outputs": [
    {
     "data": {
      "text/plain": [
       "<pyspark.sql.streaming.StreamingQuery at 0x7f63fb857490>"
      ]
     },
     "execution_count": 3,
     "metadata": {},
     "output_type": "execute_result"
    }
   ],
   "source": [
    "query = df.groupBy(\"REGION\").count()\n",
    "query \\\n",
    "    .writeStream \\\n",
    "    .format(\"memory\") \\\n",
    "    .outputMode(\"complete\") \\\n",
    "    .queryName(\"region\") \\\n",
    "    .start()"
   ]
  },
  {
   "cell_type": "code",
   "execution_count": 4,
   "metadata": {},
   "outputs": [
    {
     "data": {
      "text/plain": [
       "True"
      ]
     },
     "execution_count": 4,
     "metadata": {},
     "output_type": "execute_result"
    }
   ],
   "source": [
    "query.isStreaming"
   ]
  },
  {
   "cell_type": "code",
   "execution_count": 7,
   "metadata": {},
   "outputs": [
    {
     "name": "stdout",
     "output_type": "stream",
     "text": [
      "+---------------+-----+\n",
      "|         REGION|count|\n",
      "+---------------+-----+\n",
      "| Eastern Africa|53597|\n",
      "| Western Africa|30739|\n",
      "|Northern Africa|47914|\n",
      "|Southern Africa|15460|\n",
      "|  Middle Africa|22868|\n",
      "+---------------+-----+\n",
      "\n",
      "+---------------+-----+\n",
      "|         REGION|count|\n",
      "+---------------+-----+\n",
      "| Eastern Africa|53597|\n",
      "| Western Africa|30739|\n",
      "|Northern Africa|47914|\n",
      "|Southern Africa|15460|\n",
      "|  Middle Africa|22868|\n",
      "+---------------+-----+\n",
      "\n",
      "+---------------+-----+\n",
      "|         REGION|count|\n",
      "+---------------+-----+\n",
      "| Eastern Africa|53597|\n",
      "| Western Africa|30739|\n",
      "|Northern Africa|47914|\n",
      "|Southern Africa|15460|\n",
      "|  Middle Africa|22868|\n",
      "+---------------+-----+\n",
      "\n",
      "+---------------+-----+\n",
      "|         REGION|count|\n",
      "+---------------+-----+\n",
      "| Eastern Africa|53597|\n",
      "| Western Africa|30739|\n",
      "|Northern Africa|47914|\n",
      "|Southern Africa|15460|\n",
      "|  Middle Africa|22868|\n",
      "+---------------+-----+\n",
      "\n",
      "+---------------+-----+\n",
      "|         REGION|count|\n",
      "+---------------+-----+\n",
      "| Eastern Africa|53597|\n",
      "| Western Africa|30739|\n",
      "|Northern Africa|47914|\n",
      "|Southern Africa|15460|\n",
      "|  Middle Africa|22868|\n",
      "+---------------+-----+\n",
      "\n"
     ]
    }
   ],
   "source": [
    "for x in range(5):\n",
    "  spark.sql(\"select * from region\").show()"
   ]
  },
  {
   "cell_type": "code",
   "execution_count": null,
   "metadata": {},
   "outputs": [],
   "source": [
    "\n"
   ]
  },
  {
   "cell_type": "code",
   "execution_count": null,
   "metadata": {},
   "outputs": [],
   "source": []
  }
 ],
 "metadata": {
  "kernelspec": {
   "display_name": "Python 3",
   "language": "python",
   "name": "python3"
  },
  "language_info": {
   "codemirror_mode": {
    "name": "ipython",
    "version": 3
   },
   "file_extension": ".py",
   "mimetype": "text/x-python",
   "name": "python",
   "nbconvert_exporter": "python",
   "pygments_lexer": "ipython3",
   "version": "3.9.1"
  }
 },
 "nbformat": 4,
 "nbformat_minor": 4
}
