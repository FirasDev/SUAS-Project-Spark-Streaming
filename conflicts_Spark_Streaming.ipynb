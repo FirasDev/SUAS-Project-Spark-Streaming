{
 "cells": [
  {
   "cell_type": "code",
   "execution_count": 1,
   "metadata": {},
   "outputs": [],
   "source": [
    "#import pandas as pd\n",
    "\n",
    "#in_csv = 'conflicts.csv'\n",
    "#number_lines = sum(1 for row in (open(in_csv)))\n",
    "#rowsize = 5000\n",
    "#for i in range(1,number_lines,rowsize):\n",
    "#    df = pd.read_csv(in_csv,\n",
    "#          header=None,\n",
    "#          nrows = rowsize,#number of rows to read at each loop\n",
    "#          skiprows = i)\n",
    "#    out_csv = 'conflicts' + str(i) + '.csv'\n",
    "#    df.to_csv(out_csv,\n",
    "#          index=False,\n",
    "#          header=False,\n",
    "#          mode='a',#append data to csv file\n",
    "#          chunksize=rowsize)#size of data to append for each loop\n",
    "\n",
    "from pyspark.sql import SparkSession\n",
    "import pyspark.sql.functions as F\n",
    "import pyspark.sql.types as T\n",
    "\n",
    "spark = SparkSession \\\n",
    "    .builder \\\n",
    "    .appName(\"ConflictsApp\") \\\n",
    "    .getOrCreate()"
   ]
  },
  {
   "cell_type": "code",
   "execution_count": 24,
   "metadata": {},
   "outputs": [
    {
     "name": "stdout",
     "output_type": "stream",
     "text": [
      "root\n",
      " |-- key: binary (nullable = true)\n",
      " |-- value: binary (nullable = true)\n",
      " |-- topic: string (nullable = true)\n",
      " |-- partition: integer (nullable = true)\n",
      " |-- offset: long (nullable = true)\n",
      " |-- timestamp: timestamp (nullable = true)\n",
      " |-- timestampType: integer (nullable = true)\n",
      "\n"
     ]
    }
   ],
   "source": [
    "from pyspark.sql.types import *\n",
    "from pyspark.sql.functions import *\n",
    "\n",
    "dfraw = spark \\\n",
    "  .readStream \\\n",
    "  .format(\"kafka\") \\\n",
    "  .option(\"kafka.bootstrap.servers\", \"localhost:9092\") \\\n",
    "  .option(\"subscribe\", \"conflicts\") \\\n",
    "  .option(\"startingOffsets\", \"earliest\") \\\n",
    "  .load()\n",
    "dfraw.printSchema()"
   ]
  },
  {
   "cell_type": "code",
   "execution_count": 3,
   "metadata": {},
   "outputs": [
    {
     "name": "stdout",
     "output_type": "stream",
     "text": [
      "root\n",
      " |-- : string (nullable = true)\n",
      " |-- ISO: string (nullable = true)\n",
      " |-- EVENT_DATE: string (nullable = true)\n",
      " |-- EVENT_TYPE: string (nullable = true)\n",
      " |-- SUB_EVENT_TYPE: string (nullable = true)\n",
      " |-- ACTOR1: string (nullable = true)\n",
      " |-- ASSOC_ACTOR_1: string (nullable = true)\n",
      " |-- ACTOR2: string (nullable = true)\n",
      " |-- ASSOC_ACTOR_2: string (nullable = true)\n",
      " |-- INTERACTION: integer (nullable = true)\n",
      " |-- REGION: string (nullable = true)\n",
      " |-- COUNTRY: string (nullable = true)\n",
      " |-- ADMIN1: string (nullable = true)\n",
      " |-- ADMIN2: string (nullable = true)\n",
      " |-- LOCATION: string (nullable = true)\n",
      " |-- SOURCE: string (nullable = true)\n",
      " |-- NOTES: string (nullable = true)\n",
      " |-- FATALITIES: string (nullable = true)\n",
      " |-- timestamp: timestamp (nullable = true)\n",
      "\n"
     ]
    }
   ],
   "source": [
    "schema = StructType([StructField(\"\", StringType(),True),\n",
    "                         StructField(\"ISO\", StringType(),True),\n",
    "                         StructField(\"EVENT_DATE\", StringType(),True),\n",
    "                         StructField(\"EVENT_TYPE\", StringType(),True),\n",
    "                         StructField(\"SUB_EVENT_TYPE\", StringType(),True),\n",
    "                         StructField(\"ACTOR1\", StringType(),True),\n",
    "                         StructField(\"ASSOC_ACTOR_1\", StringType(),True),\n",
    "                         StructField(\"ACTOR2\", StringType(),True),\n",
    "                         StructField(\"ASSOC_ACTOR_2\", StringType(),True),\n",
    "                         StructField(\"INTERACTION\", IntegerType(),True),\n",
    "                         StructField(\"REGION\", StringType(),True),\n",
    "                         StructField(\"COUNTRY\", StringType(),True),\n",
    "                         StructField(\"ADMIN1\", StringType(),True),\n",
    "                         StructField(\"ADMIN2\", StringType(),True),\n",
    "                         StructField(\"LOCATION\", StringType(),True),\n",
    "                         StructField(\"SOURCE\", StringType(),True),\n",
    "                         StructField(\"NOTES\", StringType(),True),\n",
    "                         StructField(\"FATALITIES\", StringType(),True)\n",
    "                    ])\n",
    "\n",
    "#df = dfraw.selectExpr(\"CAST(value AS STRING)\")\n",
    "df = dfraw.selectExpr(\"CAST(value AS STRING)\", \"CAST(timestamp AS TIMESTAMP)\") \\\n",
    "  .select(from_json(\"value\", schema).alias(\"data\"), \"timestamp\") \\\n",
    "  .select(\"data.*\", \"timestamp\")\n",
    "df.printSchema()"
   ]
  },
  {
   "cell_type": "code",
   "execution_count": 4,
   "metadata": {},
   "outputs": [
    {
     "data": {
      "text/plain": [
       "<pyspark.sql.streaming.StreamingQuery at 0x7fa2ac68efd0>"
      ]
     },
     "execution_count": 4,
     "metadata": {},
     "output_type": "execute_result"
    }
   ],
   "source": [
    "dfraw.writeStream.queryName(\"showDf\").format(\"memory\").outputMode(\"append\").start()\n",
    "df.writeStream.queryName(\"showRaw\").format(\"memory\").outputMode(\"append\").start()"
   ]
  },
  {
   "cell_type": "code",
   "execution_count": 5,
   "metadata": {},
   "outputs": [
    {
     "name": "stdout",
     "output_type": "stream",
     "text": [
      "+----+--------------------+---------+---------+------+--------------------+-------------+\n",
      "| key|               value|    topic|partition|offset|           timestamp|timestampType|\n",
      "+----+--------------------+---------+---------+------+--------------------+-------------+\n",
      "|null|[7B 22 22 3A 20 2...|conflicts|        0|     0|2021-01-28 01:12:...|            0|\n",
      "|null|[7B 22 22 3A 20 2...|conflicts|        0|     1|2021-01-28 01:12:...|            0|\n",
      "|null|[7B 22 22 3A 20 2...|conflicts|        0|     2|2021-01-28 01:12:...|            0|\n",
      "|null|[7B 22 22 3A 20 2...|conflicts|        0|     3|2021-01-28 01:12:...|            0|\n",
      "|null|[7B 22 22 3A 20 2...|conflicts|        0|     4|2021-01-28 01:12:...|            0|\n",
      "|null|[7B 22 22 3A 20 2...|conflicts|        0|     5|2021-01-28 01:12:...|            0|\n",
      "|null|[7B 22 22 3A 20 2...|conflicts|        0|     6|2021-01-28 01:12:...|            0|\n",
      "|null|[7B 22 22 3A 20 2...|conflicts|        0|     7|2021-01-28 01:12:...|            0|\n",
      "|null|[7B 22 22 3A 20 2...|conflicts|        0|     8|2021-01-28 01:12:...|            0|\n",
      "|null|[7B 22 22 3A 20 2...|conflicts|        0|     9|2021-01-28 01:12:...|            0|\n",
      "|null|[7B 22 22 3A 20 2...|conflicts|        0|    10|2021-01-28 01:12:...|            0|\n",
      "|null|[7B 22 22 3A 20 2...|conflicts|        0|    11|2021-01-28 01:13:...|            0|\n",
      "|null|[7B 22 22 3A 20 2...|conflicts|        0|    12|2021-01-28 01:13:...|            0|\n",
      "|null|[7B 22 22 3A 20 2...|conflicts|        0|    13|2021-01-28 01:13:...|            0|\n",
      "|null|[7B 22 22 3A 20 2...|conflicts|        0|    14|2021-01-28 01:13:...|            0|\n",
      "|null|[7B 22 22 3A 20 2...|conflicts|        0|    15|2021-01-28 01:13:...|            0|\n",
      "|null|[7B 22 22 3A 20 2...|conflicts|        0|    16|2021-01-28 01:13:...|            0|\n",
      "|null|[7B 22 22 3A 20 2...|conflicts|        0|    17|2021-01-28 01:13:...|            0|\n",
      "|null|[7B 22 22 3A 20 2...|conflicts|        0|    18|2021-01-28 01:13:...|            0|\n",
      "|null|[7B 22 22 3A 20 2...|conflicts|        0|    19|2021-01-28 01:13:...|            0|\n",
      "+----+--------------------+---------+---------+------+--------------------+-------------+\n",
      "only showing top 20 rows\n",
      "\n"
     ]
    }
   ],
   "source": [
    "spark.sql(\"select * from showDf\").show()"
   ]
  },
  {
   "cell_type": "code",
   "execution_count": 16,
   "metadata": {},
   "outputs": [],
   "source": [
    "ds = df.toDF(*df.columns)"
   ]
  },
  {
   "cell_type": "code",
   "execution_count": 20,
   "metadata": {},
   "outputs": [
    {
     "data": {
      "text/plain": [
       "<pyspark.sql.streaming.StreamingQuery at 0x7fa2ad115ca0>"
      ]
     },
     "execution_count": 20,
     "metadata": {},
     "output_type": "execute_result"
    }
   ],
   "source": [
    "query = ds.groupBy(\"REGION\").count()\n",
    "query \\\n",
    "    .writeStream \\\n",
    "    .format(\"memory\") \\\n",
    "    .outputMode(\"complete\") \\\n",
    "    .queryName(\"region\") \\\n",
    "    .start()"
   ]
  },
  {
   "cell_type": "code",
   "execution_count": 22,
   "metadata": {},
   "outputs": [
    {
     "data": {
      "text/plain": [
       "True"
      ]
     },
     "execution_count": 22,
     "metadata": {},
     "output_type": "execute_result"
    }
   ],
   "source": [
    "query.isStreaming"
   ]
  },
  {
   "cell_type": "code",
   "execution_count": 27,
   "metadata": {},
   "outputs": [],
   "source": [
    "windowedCounts = ds \\\n",
    "    .withWatermark(\"timestamp\", \"10 minutes\") \\\n",
    "    .groupBy(\n",
    "        window(ds.timestamp, \"10 minutes\", \"5 minutes\"),\n",
    "        ds.ISO) \\\n",
    "    .count()"
   ]
  },
  {
   "cell_type": "code",
   "execution_count": 31,
   "metadata": {},
   "outputs": [
    {
     "data": {
      "text/plain": [
       "<pyspark.sql.streaming.StreamingQuery at 0x7fa2ad14cf40>"
      ]
     },
     "execution_count": 31,
     "metadata": {},
     "output_type": "execute_result"
    }
   ],
   "source": [
    "windowedCounts.writeStream.format(\"console\").outputMode(\"update\").start()"
   ]
  },
  {
   "cell_type": "code",
   "execution_count": null,
   "metadata": {},
   "outputs": [],
   "source": []
  }
 ],
 "metadata": {
  "kernelspec": {
   "display_name": "Python 3",
   "language": "python",
   "name": "python3"
  },
  "language_info": {
   "codemirror_mode": {
    "name": "ipython",
    "version": 3
   },
   "file_extension": ".py",
   "mimetype": "text/x-python",
   "name": "python",
   "nbconvert_exporter": "python",
   "pygments_lexer": "ipython3",
   "version": "3.9.1"
  }
 },
 "nbformat": 4,
 "nbformat_minor": 4
}
